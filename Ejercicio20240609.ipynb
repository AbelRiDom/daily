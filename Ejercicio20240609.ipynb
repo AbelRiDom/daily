{
 "cells": [
  {
   "cell_type": "code",
   "execution_count": 5,
   "id": "d31ae0d7-5481-4530-98dc-68c2b94e8bd6",
   "metadata": {},
   "outputs": [
    {
     "data": {
      "text/html": [
       "\n",
       "            <div>\n",
       "                <p><b>SparkSession - in-memory</b></p>\n",
       "                \n",
       "        <div>\n",
       "            <p><b>SparkContext</b></p>\n",
       "\n",
       "            <p><a href=\"http://DESKTOP-K2UHC3J:4040\">Spark UI</a></p>\n",
       "\n",
       "            <dl>\n",
       "              <dt>Version</dt>\n",
       "                <dd><code>v3.5.1</code></dd>\n",
       "              <dt>Master</dt>\n",
       "                <dd><code>local[*]</code></dd>\n",
       "              <dt>AppName</dt>\n",
       "                <dd><code>CyM DFs</code></dd>\n",
       "            </dl>\n",
       "        </div>\n",
       "        \n",
       "            </div>\n",
       "        "
      ],
      "text/plain": [
       "<pyspark.sql.session.SparkSession at 0x2078b579430>"
      ]
     },
     "execution_count": 5,
     "metadata": {},
     "output_type": "execute_result"
    }
   ],
   "source": [
    "import findspark\n",
    "findspark.init()\n",
    "from pyspark.sql import SparkSession\n",
    "sesion = SparkSession.builder.appName(\"Erjercicio20240609\").getOrCreate()\n",
    "sesion"
   ]
  },
  {
   "cell_type": "code",
   "execution_count": 7,
   "id": "9eceb22d-720d-40fc-9749-83c992826502",
   "metadata": {},
   "outputs": [
    {
     "data": {
      "text/plain": [
       "'\\nEjemplo 1:\\n1. Crear un DataFrame a partir de un archivo CSV\\n2. Realizar operaciones básicas como selección de columnas, filtrado de datos y agregacion\\n3. Guardar el DataFrame resultante en un archivo Parquet\\n\\nSolucion:\\n\\nPaso 1 leer un csv\\nPara poder leer un archivo csv usamos el metodo read.csv\\ndf = spark.read.csv(\"ruta/al/archivo.csv\", header=True, inferSchema=True)\\ndf.show()\\n\\n\\n\\nPaso 2 Realizar operaciones basicas\\n//Seleccion de columnas - Seleccionar columnas especificas\\ndf_select = df.select(\"columna1\",\"columna2\")\\ndf_select.show()\\n\\n//Filtrado de datos - Filtrar datos basados en una condicion\\ndf_filtered = df.filter(df[\"columna1\"]>50)\\ndf_filtered.show()\\n\\n//Agregacion - Realizar una agregacion, como calcular el promedio de una columna\\ndf_grouped = df.groupBy(\"columna1\").agg({\"columna2\": \"avg\"})\\ndf_grouped.show()\\n\\nPaso3 Guardar el DataFrame en un archivo parquet\\ndf_grouped.write.parquet(\"ruta/al/archivo_output.parquet\")\\n\\n'"
      ]
     },
     "execution_count": 7,
     "metadata": {},
     "output_type": "execute_result"
    }
   ],
   "source": [
    "##Creacion y manipulacion de dataframes\n",
    "\"\"\"\n",
    "Ejemplo 1:\n",
    "1. Crear un DataFrame a partir de un archivo CSV\n",
    "2. Realizar operaciones básicas como selección de columnas, filtrado de datos y agregacion\n",
    "3. Guardar el DataFrame resultante en un archivo Parquet\n",
    "\n",
    "Solucion:\n",
    "\n",
    "Paso 1 leer un csv\n",
    "Para poder leer un archivo csv usamos el metodo read.csv\n",
    "df = spark.read.csv(\"ruta/al/archivo.csv\", header=True, inferSchema=True)\n",
    "df.show()\n",
    "\n",
    "\n",
    "\n",
    "Paso 2 Realizar operaciones basicas\n",
    "//Seleccion de columnas - Seleccionar columnas especificas\n",
    "df_select = df.select(\"columna1\",\"columna2\")\n",
    "df_select.show()\n",
    "\n",
    "//Filtrado de datos - Filtrar datos basados en una condicion\n",
    "df_filtered = df.filter(df[\"columna1\"]>50)\n",
    "df_filtered.show()\n",
    "\n",
    "//Agregacion - Realizar una agregacion, como calcular el promedio de una columna\n",
    "df_grouped = df.groupBy(\"columna1\").agg({\"columna2\": \"avg\"})\n",
    "df_grouped.show()\n",
    "\n",
    "Paso3 Guardar el DataFrame en un archivo parquet\n",
    "df_grouped.write.parquet(\"ruta/al/archivo_output.parquet\")\n",
    "\n",
    "\"\"\""
   ]
  },
  {
   "cell_type": "code",
   "execution_count": null,
   "id": "fc3d49a4-ac69-4489-8c26-be90b855f434",
   "metadata": {},
   "outputs": [],
   "source": []
  }
 ],
 "metadata": {
  "kernelspec": {
   "display_name": "Python 3 (ipykernel)",
   "language": "python",
   "name": "python3"
  },
  "language_info": {
   "codemirror_mode": {
    "name": "ipython",
    "version": 3
   },
   "file_extension": ".py",
   "mimetype": "text/x-python",
   "name": "python",
   "nbconvert_exporter": "python",
   "pygments_lexer": "ipython3",
   "version": "3.8.0"
  }
 },
 "nbformat": 4,
 "nbformat_minor": 5
}
